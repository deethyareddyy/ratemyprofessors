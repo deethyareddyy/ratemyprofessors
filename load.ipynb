{
 "cells": [
  {
   "cell_type": "code",
   "execution_count": 3,
   "metadata": {},
   "outputs": [],
   "source": [
    "from dotenv import load_dotenv\n",
    "load_dotenv()\n",
    "from pinecone import Pinecone, ServerlessSpec\n",
    "from openai import OpenAI\n",
    "import os\n",
    "import json"
   ]
  },
  {
   "cell_type": "code",
   "execution_count": 4,
   "metadata": {},
   "outputs": [],
   "source": [
    "# Initialize Pinecone\n",
    "pc = Pinecone(api_key=os.getenv(\"PINECONE_API_KEY\"))\n",
    "\n",
    "# Create a Pinecone index\n",
    "pc.create_index(\n",
    "    name=\"rag\",\n",
    "    dimension=1536,\n",
    "    metric=\"cosine\",\n",
    "    spec=ServerlessSpec(cloud=\"aws\", region=\"us-east-1\"),\n",
    ")"
   ]
  },
  {
   "cell_type": "code",
   "execution_count": 6,
   "metadata": {},
   "outputs": [
    {
     "data": {
      "text/plain": [
       "[{'professor': 'Dr. Emily Johnson',\n",
       "  'subject': 'Physics',\n",
       "  'stars': 5,\n",
       "  'review': 'Dr. Johnson explains complex topics with clarity and enthusiasm. Her classes are well-organized, and she is always willing to help students.'},\n",
       " {'professor': 'Prof. Mark Davis',\n",
       "  'subject': 'Mathematics',\n",
       "  'stars': 4,\n",
       "  'review': 'Prof. Davis is very knowledgeable but can be a bit fast-paced. Overall, his teaching style is effective, and he encourages active participation.'},\n",
       " {'professor': 'Dr. Sarah Lee',\n",
       "  'subject': 'Computer Science',\n",
       "  'stars': 3,\n",
       "  'review': 'Dr. Lee is knowledgeable, but her lectures can sometimes be hard to follow. The course material is interesting, but assignments can be challenging.'},\n",
       " {'professor': 'Prof. Robert White',\n",
       "  'subject': 'History',\n",
       "  'stars': 2,\n",
       "  'review': 'Prof. White’s lectures lack structure, and it’s difficult to stay engaged. He often digresses, making it challenging to grasp the key points.'},\n",
       " {'professor': 'Dr. Laura Smith',\n",
       "  'subject': 'Chemistry',\n",
       "  'stars': 5,\n",
       "  'review': 'Dr. Smith is an exceptional professor. She makes learning fun and engaging, and her hands-on approach in the lab is both educational and enjoyable.'},\n",
       " {'professor': 'Prof. Michael Brown',\n",
       "  'subject': 'Philosophy',\n",
       "  'stars': 4,\n",
       "  'review': 'Prof. Brown is passionate about philosophy, and his lectures are thought-provoking. He encourages critical thinking, but his grading is a bit tough.'},\n",
       " {'professor': 'Dr. Angela Martinez',\n",
       "  'subject': 'Biology',\n",
       "  'stars': 3,\n",
       "  'review': 'Dr. Martinez is knowledgeable, but her lectures are very dense. It’s sometimes hard to keep up with the material, but she offers good office hours for help.'},\n",
       " {'professor': 'Prof. David Thompson',\n",
       "  'subject': 'Economics',\n",
       "  'stars': 4,\n",
       "  'review': 'Prof. Thompson is excellent at making economics relatable. His examples from real-world applications make the course material engaging and easier to understand.'},\n",
       " {'professor': 'Dr. Rachel Wilson',\n",
       "  'subject': 'Psychology',\n",
       "  'stars': 5,\n",
       "  'review': \"Dr. Wilson is an amazing professor! Her lectures are interactive, and she truly cares about her students' learning. She goes above and beyond to ensure everyone understands the material.\"},\n",
       " {'professor': 'Prof. James Carter',\n",
       "  'subject': 'Sociology',\n",
       "  'stars': 2,\n",
       "  'review': 'Prof. Carter’s lectures are often monotonous, and it’s difficult to stay focused. The course content is interesting, but his teaching style needs improvement.'}]"
      ]
     },
     "execution_count": 6,
     "metadata": {},
     "output_type": "execute_result"
    }
   ],
   "source": [
    "# Load the review data\n",
    "data = json.load(open(\"reviews.json\"))\n",
    "data[\"reviews\"]"
   ]
  },
  {
   "cell_type": "code",
   "execution_count": 7,
   "metadata": {},
   "outputs": [],
   "source": [
    "processed_data = []\n",
    "client = OpenAI()\n",
    "\n",
    "# Create embeddings for each review\n",
    "for review in data[\"reviews\"]:\n",
    "    response = client.embeddings.create(\n",
    "        input=review['review'], model=\"text-embedding-3-small\"\n",
    "    )\n",
    "    embedding = response.data[0].embedding\n",
    "    processed_data.append(\n",
    "        {\n",
    "            \"values\": embedding,\n",
    "            \"id\": review[\"professor\"],\n",
    "            \"metadata\":{\n",
    "                \"review\": review[\"review\"],\n",
    "                \"subject\": review[\"subject\"],\n",
    "                \"stars\": review[\"stars\"],\n",
    "            }\n",
    "        }\n",
    "    )"
   ]
  },
  {
   "cell_type": "code",
   "execution_count": 8,
   "metadata": {},
   "outputs": [
    {
     "name": "stdout",
     "output_type": "stream",
     "text": [
      "Upserted count: 10\n",
      "{'dimension': 1536,\n",
      " 'index_fullness': 0.0,\n",
      " 'namespaces': {},\n",
      " 'total_vector_count': 0}\n"
     ]
    }
   ],
   "source": [
    "# Insert the embeddings into the Pinecone index\n",
    "index = pc.Index(\"rag\")\n",
    "upsert_response = index.upsert(\n",
    "    vectors=processed_data,\n",
    "    namespace=\"ns1\",\n",
    ")\n",
    "print(f\"Upserted count: {upsert_response['upserted_count']}\")\n",
    "\n",
    "# Print index statistics\n",
    "print(index.describe_index_stats())"
   ]
  }
 ],
 "metadata": {
  "kernelspec": {
   "display_name": "Python 3",
   "language": "python",
   "name": "python3"
  },
  "language_info": {
   "codemirror_mode": {
    "name": "ipython",
    "version": 3
   },
   "file_extension": ".py",
   "mimetype": "text/x-python",
   "name": "python",
   "nbconvert_exporter": "python",
   "pygments_lexer": "ipython3",
   "version": "3.10.4"
  }
 },
 "nbformat": 4,
 "nbformat_minor": 2
}
